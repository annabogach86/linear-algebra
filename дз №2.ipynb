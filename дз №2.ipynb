{
 "cells": [
  {
   "cell_type": "markdown",
   "metadata": {
    "id": "HPMpEWusIIIM"
   },
   "source": [
    "# Урок 2"
   ]
  },
  {
   "cell_type": "markdown",
   "metadata": {
    "id": "USFuS5Q1IIIP"
   },
   "source": [
    "## Матрицы и матричные операции. Часть 1"
   ]
  },
  {
   "cell_type": "markdown",
   "metadata": {},
   "source": [
    "### Практическое задание"
   ]
  },
  {
   "cell_type": "markdown",
   "metadata": {
    "id": "APeDlmh8IIL1"
   },
   "source": [
    "Все задания рекомендуется делать вручную, проверяя полученные результаты через NumPy.\n",
    "\n",
    "__1.__ Установите, какие произведения матриц $AB$ и $BA$ определены, и найдите размерности полученных матриц:\n",
    "\n",
    "   а) $A$ — матрица $4\\times 2$, $B$ — матрица $4\\times 2$;\n",
    "    \n",
    "   б) $A$ — матрица $2\\times 5$, $B$ — матрица $5\\times 3$;\n",
    "    \n",
    "   в) $A$ — матрица $8\\times 3$, $B$ — матрица $3\\times 8$;\n",
    "    \n",
    "   г) $A$ — квадратная матрица $4\\times 4$, $B$ — квадратная матрица $4\\times 4$.\n",
    "    \n",
    "__2.__ Найдите сумму и произведение матриц $A=\\begin{pmatrix}\n",
    "1 & -2\\\\ \n",
    "3 & 0\n",
    "\\end{pmatrix}$ и $B=\\begin{pmatrix}\n",
    "4 & -1\\\\ \n",
    "0 & 5\n",
    "\\end{pmatrix}.$\n",
    "\n",
    "__3.__ Из закономерностей сложения и умножения матриц на число можно сделать вывод, что матрицы одного размера образуют линейное пространство. Вычислите линейную комбинацию $3A-2B+4C$ для матриц $A=\\begin{pmatrix}\n",
    "1 & 7\\\\ \n",
    "3 & -6\n",
    "\\end{pmatrix}$, $B=\\begin{pmatrix}\n",
    "0 & 5\\\\ \n",
    "2 & -1\n",
    "\\end{pmatrix}$, $C=\\begin{pmatrix}\n",
    "2 & -4\\\\ \n",
    "1 & 1\n",
    "\\end{pmatrix}.$\n",
    "    \n",
    "__4.__ Дана матрица $A=\\begin{pmatrix}\n",
    "4 & 1\\\\ \n",
    "5 & -2\\\\ \n",
    "2 & 3\n",
    "\\end{pmatrix}$.\n",
    "Вычислите $AA^{T}$ и $A^{T}A$.\n",
    "\n",
    "__5*.__ Напишите на Python функцию для перемножения двух произвольных матриц, не используя NumPy."
   ]
  },
  {
   "cell_type": "markdown",
   "metadata": {},
   "source": [
    "## Ответ на 1 задание: "
   ]
  },
  {
   "cell_type": "markdown",
   "metadata": {},
   "source": [
    "a) 𝐴  — матрица  4×2 ,  𝐵  — матрица  4×2 "
   ]
  },
  {
   "cell_type": "markdown",
   "metadata": {},
   "source": [
    "а. Произведение не определено\n",
    "\n",
    "б. Произведение определено, размерность 2х3\n",
    "\n",
    "в. Произведение определено, размерность 8х8\n",
    "\n",
    "г. Произведение определено, размерность 4х4"
   ]
  },
  {
   "cell_type": "markdown",
   "metadata": {},
   "source": [
    "## Ответ на 2 задание:"
   ]
  },
  {
   "cell_type": "code",
   "execution_count": 13,
   "metadata": {},
   "outputs": [],
   "source": [
    "import numpy as np\n",
    "from numpy.linalg import norm"
   ]
  },
  {
   "cell_type": "code",
   "execution_count": 14,
   "metadata": {},
   "outputs": [
    {
     "data": {
      "text/plain": [
       "array([[5, 1],\n",
       "       [3, 5]])"
      ]
     },
     "execution_count": 14,
     "metadata": {},
     "output_type": "execute_result"
    }
   ],
   "source": [
    "A = np.array([[1, 2], [3, 0]])\n",
    "B = np.array([[4, -1], [0, 5]])\n",
    "A + B"
   ]
  },
  {
   "cell_type": "code",
   "execution_count": 15,
   "metadata": {},
   "outputs": [
    {
     "data": {
      "text/plain": [
       "array([[ 4,  9],\n",
       "       [12, -3]])"
      ]
     },
     "execution_count": 15,
     "metadata": {},
     "output_type": "execute_result"
    }
   ],
   "source": [
    "A.dot(B)"
   ]
  },
  {
   "cell_type": "markdown",
   "metadata": {},
   "source": [
    "## Ответ на 3 задание: "
   ]
  },
  {
   "cell_type": "code",
   "execution_count": 16,
   "metadata": {},
   "outputs": [
    {
     "data": {
      "text/plain": [
       "array([[ 11,  -5],\n",
       "       [  9, -12]])"
      ]
     },
     "execution_count": 16,
     "metadata": {},
     "output_type": "execute_result"
    }
   ],
   "source": [
    "A = np.array([[1, 7], [3, -6]])\n",
    "B = np.array([[0, 5], [2, -1]])\n",
    "C = np.array([[2, -4], [1, 1]])\n",
    "3*A - 2*B + 4*C"
   ]
  },
  {
   "cell_type": "markdown",
   "metadata": {},
   "source": [
    "## Ответ на 4 задание: "
   ]
  },
  {
   "cell_type": "code",
   "execution_count": 17,
   "metadata": {},
   "outputs": [
    {
     "data": {
      "text/plain": [
       "array([[17, 18, 11],\n",
       "       [18, 29,  4],\n",
       "       [11,  4, 13]])"
      ]
     },
     "execution_count": 17,
     "metadata": {},
     "output_type": "execute_result"
    }
   ],
   "source": [
    "A = np.array([[4, 1], [5, -2], [2, 3]])\n",
    "A_T = A.T\n",
    "A.dot(A_T)"
   ]
  },
  {
   "cell_type": "markdown",
   "metadata": {},
   "source": [
    "##  Ответ на 5 задание: "
   ]
  },
  {
   "cell_type": "code",
   "execution_count": 18,
   "metadata": {},
   "outputs": [
    {
     "name": "stdout",
     "output_type": "stream",
     "text": [
      "[17, 18, 11]\n",
      "[18, 29, 4]\n",
      "[11, 4, 13]\n"
     ]
    }
   ],
   "source": [
    "def matrix_multiply(A,B):\n",
    "    n = A.shape[0]\n",
    "    m = A.shape[1]\n",
    "    k = B.shape[0]\n",
    "    s = B.shape[1]\n",
    "    if m != k:\n",
    "        print(f'Матрицы невозможно перемножить, так как количество строк 2-ой матрицы = {k} /nи' \n",
    "              'оно не совпадает с количеством столбцов 1-ой матрицы = {m}')\n",
    "    else:\n",
    "        Matrix = [[0 for x in range(s)] for y in range(n)] \n",
    "        for i in range(n):\n",
    "            for j in range(s):\n",
    "                w = 0\n",
    "                while w < m:\n",
    "                    Matrix[i][j] += A[i][w]*B[w][j]\n",
    "                    w += 1\n",
    "    return Matrix\n",
    "\n",
    "B = A.T\n",
    "for row in matrix_multiply(A,B):\n",
    "    print(row)"
   ]
  },
  {
   "cell_type": "markdown",
   "metadata": {
    "id": "N7Ec4jnDWtQg"
   },
   "source": [
    "# Матрицы и матричные операции. Часть 2"
   ]
  },
  {
   "cell_type": "markdown",
   "metadata": {
    "id": "NRcOh0gsWtUo"
   },
   "source": [
    "## Практическое задание"
   ]
  },
  {
   "cell_type": "markdown",
   "metadata": {
    "id": "H3qXQfJ-WtUp"
   },
   "source": [
    "Все задания рекомендуется выполнять вручную, проверяя полученные результаты с использованием NumPy.\n",
    "\n",
    "__1.__ Вычислите определитель:\n",
    "\n",
    "   a)\n",
    "\n",
    "$$\\begin{vmatrix}\n",
    "sinx & -cosx\\\\ \n",
    "cosx & sinx\n",
    "\\end{vmatrix};$$\n",
    "\n",
    "   б)\n",
    "    \n",
    "$$\\begin{vmatrix}\n",
    "4 & 2 & 3\\\\ \n",
    "0 & 5 & 1\\\\ \n",
    "0 & 0 & 9\n",
    "\\end{vmatrix};$$\n",
    "    \n",
    "   в)\n",
    "\n",
    "$$\\begin{vmatrix}\n",
    "1 & 2 & 3\\\\ \n",
    "4 & 5 & 6\\\\ \n",
    "7 & 8 & 9\n",
    "\\end{vmatrix}.$$\n",
    "\n",
    "\n",
    "__2.__ Определитель матрицы $A$ равен $4$. Найдите:\n",
    "\n",
    "   а) $det(A^{2})$;\n",
    "    \n",
    "   б) $det(A^{T})$;\n",
    "    \n",
    "   в) $det(2A)$.\n",
    "   \n",
    "__3.__  Докажите, что матрица:\n",
    "\n",
    "$$\\begin{pmatrix}\n",
    "-2 & 7 & -3\\\\ \n",
    "4 & -14 & 6\\\\ \n",
    "-3 & 7 & 13\n",
    "\\end{pmatrix}$$\n",
    "   \n",
    "вырожденная.\n",
    "\n",
    "__4.__ Найдите ранг матрицы:\n",
    "\n",
    "   а) $\\begin{pmatrix}\n",
    "1 & 2 & 3\\\\ \n",
    "1 & 1 & 1\\\\ \n",
    "2 & 3 & 4\n",
    "\\end{pmatrix};$\n",
    "\n",
    "   б) $\\begin{pmatrix}\n",
    "0 & 0 & 2 & 1\\\\ \n",
    "0 & 0 & 2 & 2\\\\ \n",
    "0 & 0 & 4 & 3\\\\ \n",
    "2 & 3 & 5 & 6\n",
    "\\end{pmatrix}.$"
   ]
  },
  {
   "cell_type": "markdown",
   "metadata": {},
   "source": [
    "## Ответ на 1 задание: "
   ]
  },
  {
   "cell_type": "markdown",
   "metadata": {},
   "source": [
    "a)"
   ]
  },
  {
   "attachments": {
    "image.png": {
     "image/png": "[encoded data removed]"
    }
   },
   "cell_type": "markdown",
   "metadata": {},
   "source": [
    "![image.png](attachment:image.png)"
   ]
  },
  {
   "cell_type": "markdown",
   "metadata": {},
   "source": [
    "б)"
   ]
  },
  {
   "cell_type": "code",
   "execution_count": 29,
   "metadata": {
    "id": "OSvS5DGTWtR8"
   },
   "outputs": [],
   "source": [
    "import numpy as np\n",
    "from numpy.linalg import det"
   ]
  },
  {
   "cell_type": "code",
   "execution_count": 30,
   "metadata": {},
   "outputs": [
    {
     "name": "stdout",
     "output_type": "stream",
     "text": [
      "Матрица:\n",
      "[[4 2 3]\n",
      " [0 5 1]\n",
      " [0 0 9]]\n",
      "Определитель:\n",
      "180.000000000\n"
     ]
    }
   ],
   "source": [
    "B = np.matrix([[4, 2, 3],[0, 5, 1],[0, 0, 9]])\n",
    "print(f'Матрица:\\n{B}')\n",
    "print(f'Определитель:\\n{np.linalg.det(B):.9f}')"
   ]
  },
  {
   "cell_type": "markdown",
   "metadata": {},
   "source": [
    "в)"
   ]
  },
  {
   "cell_type": "code",
   "execution_count": 31,
   "metadata": {},
   "outputs": [
    {
     "name": "stdout",
     "output_type": "stream",
     "text": [
      "Матрица:\n",
      "[[1 2 3]\n",
      " [4 5 6]\n",
      " [7 8 9]]\n",
      "Определитель:\n",
      "-0.000000000\n"
     ]
    }
   ],
   "source": [
    "C = np.matrix([[1, 2, 3],[4, 5, 6],[7, 8, 9]])\n",
    "print(f'Матрица:\\n{C}')\n",
    "print(f'Определитель:\\n{np.linalg.det(C):.9f}')"
   ]
  },
  {
   "cell_type": "code",
   "execution_count": 33,
   "metadata": {},
   "outputs": [
    {
     "data": {
      "text/plain": [
       "-9.51619735392994e-16"
      ]
     },
     "execution_count": 33,
     "metadata": {},
     "output_type": "execute_result"
    }
   ],
   "source": [
    "C = np.matrix([[1, 2, 3],[4, 5, 6],[7, 8, 9]])\n",
    "det(C)"
   ]
  },
  {
   "cell_type": "markdown",
   "metadata": {},
   "source": [
    "##  Ответ на 2 задание:"
   ]
  },
  {
   "attachments": {
    "image-2.png": {
     "image/png": "[encoded data removed]"
    }
   },
   "cell_type": "markdown",
   "metadata": {},
   "source": [
    "![image-2.png](attachment:image-2.png)"
   ]
  },
  {
   "cell_type": "markdown",
   "metadata": {},
   "source": [
    "##  Ответ на 3 задание:"
   ]
  },
  {
   "cell_type": "code",
   "execution_count": 35,
   "metadata": {},
   "outputs": [
    {
     "name": "stdout",
     "output_type": "stream",
     "text": [
      "Ранг матрицы равен 2\n",
      "Нет обратной матрицы\n"
     ]
    }
   ],
   "source": [
    "rank = np.linalg.matrix_rank\n",
    "inv = np.linalg.inv\n",
    "\n",
    "A = np.matrix([[-2, 7, -3],[4, -14, 6],[-3, 7, 13]])\n",
    "print(f'Ранг матрицы равен {rank(A)}')\n",
    "try:\n",
    "    print(f'Обратная матрица {inv(A)}')\n",
    "except:\n",
    "    print('Нет обратной матрицы')"
   ]
  },
  {
   "cell_type": "markdown",
   "metadata": {},
   "source": [
    "Ранг матрицы меньше числа ее строк, и у нее отсутствует обратная матрица => Матрица вырождена"
   ]
  },
  {
   "cell_type": "markdown",
   "metadata": {},
   "source": [
    "##  Ответ на 4 задание:"
   ]
  },
  {
   "cell_type": "markdown",
   "metadata": {},
   "source": [
    "a)"
   ]
  },
  {
   "cell_type": "code",
   "execution_count": 36,
   "metadata": {},
   "outputs": [
    {
     "data": {
      "text/plain": [
       "2"
      ]
     },
     "execution_count": 36,
     "metadata": {},
     "output_type": "execute_result"
    }
   ],
   "source": [
    "A = np.matrix('1, 2, 3; 1, 1, 1; 2, 3, 4')\n",
    "rank(A)"
   ]
  },
  {
   "cell_type": "markdown",
   "metadata": {},
   "source": [
    "б)"
   ]
  },
  {
   "cell_type": "code",
   "execution_count": 38,
   "metadata": {},
   "outputs": [
    {
     "data": {
      "text/plain": [
       "3"
      ]
     },
     "execution_count": 38,
     "metadata": {},
     "output_type": "execute_result"
    }
   ],
   "source": [
    "B = np.matrix([[0, 0, 2, 1],[0, 0, 2, 2],[0, 0, 4, 3],[2, 3, 5, 6]])\n",
    "rank(B)"
   ]
  }
 ],
 "metadata": {
  "colab": {
   "collapsed_sections": [],
   "name": "Методичка №2. .ipynb",
   "provenance": []
  },
  "kernelspec": {
   "display_name": "Python 3 (ipykernel)",
   "language": "python",
   "name": "python3"
  },
  "language_info": {
   "codemirror_mode": {
    "name": "ipython",
    "version": 3
   },
   "file_extension": ".py",
   "mimetype": "text/x-python",
   "name": "python",
   "nbconvert_exporter": "python",
   "pygments_lexer": "ipython3",
   "version": "3.9.7"
  }
 },
 "nbformat": 4,
 "nbformat_minor": 1
}
